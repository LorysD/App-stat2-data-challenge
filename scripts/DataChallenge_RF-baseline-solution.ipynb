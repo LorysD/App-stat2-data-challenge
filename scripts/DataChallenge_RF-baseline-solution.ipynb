{
 "cells": [
  {
   "cell_type": "markdown",
   "id": "3061383e",
   "metadata": {},
   "source": [
    "# Random-forest baseline\n",
    "\n",
    "In this notebook, we carry out a simple baseline based on RandomForest and kmer profiles. \n"
   ]
  },
  {
   "cell_type": "markdown",
   "id": "cd884776",
   "metadata": {},
   "source": [
    "## We first import packages"
   ]
  },
  {
   "cell_type": "code",
   "execution_count": 1,
   "id": "e0f35b61-9701-4c8f-af3f-c88282ad1267",
   "metadata": {
    "scrolled": true
   },
   "outputs": [],
   "source": [
    "# generic imports \n",
    "import pandas as pd\n",
    "import os\n",
    "import numpy as np\n",
    "import re\n",
    "\n",
    "# sklearn \n",
    "from sklearn.preprocessing import LabelEncoder\n",
    "from sklearn.model_selection import GridSearchCV\n",
    "from sklearn.ensemble import RandomForestClassifier\n",
    "from sklearn.metrics import classification_report, confusion_matrix\n",
    "from sklearn.decomposition import PCA\n",
    "\n",
    "# seaborn\n",
    "import matplotlib\n",
    "import matplotlib.pyplot as plt\n",
    "import seaborn as sns\n",
    "\n",
    "# set random seed\n",
    "np.random.seed(123)\n",
    "\n",
    "import utils"
   ]
  },
  {
   "cell_type": "markdown",
   "id": "6119c057-10d8-49a3-ba15-7015b8dbb4e1",
   "metadata": {},
   "source": [
    "## 1. Load train dataset"
   ]
  },
  {
   "cell_type": "code",
   "execution_count": 2,
   "id": "59d0b8b9-0225-40a0-aee8-849d407bd5ec",
   "metadata": {},
   "outputs": [
    {
     "data": {
      "text/html": [
       "<div>\n",
       "<style scoped>\n",
       "    .dataframe tbody tr th:only-of-type {\n",
       "        vertical-align: middle;\n",
       "    }\n",
       "\n",
       "    .dataframe tbody tr th {\n",
       "        vertical-align: top;\n",
       "    }\n",
       "\n",
       "    .dataframe thead th {\n",
       "        text-align: right;\n",
       "    }\n",
       "</style>\n",
       "<table border=\"1\" class=\"dataframe\">\n",
       "  <thead>\n",
       "    <tr style=\"text-align: right;\">\n",
       "      <th></th>\n",
       "      <th>idx</th>\n",
       "      <th>label</th>\n",
       "      <th>seq</th>\n",
       "    </tr>\n",
       "  </thead>\n",
       "  <tbody>\n",
       "    <tr>\n",
       "      <th>0</th>\n",
       "      <td>0</td>\n",
       "      <td>S</td>\n",
       "      <td>ATGTCTCCGATCGAGCCCGCGGCGTCTGCGATCTTCGGACCGCGGC...</td>\n",
       "    </tr>\n",
       "    <tr>\n",
       "      <th>1</th>\n",
       "      <td>1</td>\n",
       "      <td>R</td>\n",
       "      <td>ATGTCTCCGATCGAGCCCGCGGCGTCTGCGATCTTCGGACCGCGGC...</td>\n",
       "    </tr>\n",
       "    <tr>\n",
       "      <th>2</th>\n",
       "      <td>2</td>\n",
       "      <td>S</td>\n",
       "      <td>ATGTCTCCGATCGAGCCCGCGGCGTCTGCGATCTTCGGACCGCGGC...</td>\n",
       "    </tr>\n",
       "    <tr>\n",
       "      <th>3</th>\n",
       "      <td>3</td>\n",
       "      <td>S</td>\n",
       "      <td>ATGTCTCCGATCGAGCCCGCGGCGTCTGCGATCTTCGGACCGCGGC...</td>\n",
       "    </tr>\n",
       "    <tr>\n",
       "      <th>4</th>\n",
       "      <td>4</td>\n",
       "      <td>S</td>\n",
       "      <td>ATGTCTCCGATCGAGCCCGCGGCGTCTGCGATCTTCGGACCGCGGC...</td>\n",
       "    </tr>\n",
       "    <tr>\n",
       "      <th>...</th>\n",
       "      <td>...</td>\n",
       "      <td>...</td>\n",
       "      <td>...</td>\n",
       "    </tr>\n",
       "    <tr>\n",
       "      <th>2986</th>\n",
       "      <td>2986</td>\n",
       "      <td>S</td>\n",
       "      <td>ATGTCTCCGATCGAGCCCGCGGCGTCTGCGATCTTCGGACCGCGGC...</td>\n",
       "    </tr>\n",
       "    <tr>\n",
       "      <th>2987</th>\n",
       "      <td>2987</td>\n",
       "      <td>S</td>\n",
       "      <td>ATGTCTCCGATCGAGCCCGCGGCGTCTGCGATCTTCGGACCGCGGC...</td>\n",
       "    </tr>\n",
       "    <tr>\n",
       "      <th>2988</th>\n",
       "      <td>2988</td>\n",
       "      <td>S</td>\n",
       "      <td>ATGTCTCCGATCGAGCCCGCGGCGTCTGCGATCTTCGGACCGCGGC...</td>\n",
       "    </tr>\n",
       "    <tr>\n",
       "      <th>2989</th>\n",
       "      <td>2989</td>\n",
       "      <td>S</td>\n",
       "      <td>ATGTCTCCGATCGAGCCCGCGGCGTCTGCGATCTTCGGACCGCGGC...</td>\n",
       "    </tr>\n",
       "    <tr>\n",
       "      <th>2990</th>\n",
       "      <td>2990</td>\n",
       "      <td>R</td>\n",
       "      <td>ATGTCTCCGATCGAGCCCGCGGCGTCTGCGATCTTCGGACCGCGGC...</td>\n",
       "    </tr>\n",
       "  </tbody>\n",
       "</table>\n",
       "<p>2991 rows × 3 columns</p>\n",
       "</div>"
      ],
      "text/plain": [
       "       idx label                                                seq\n",
       "0        0     S  ATGTCTCCGATCGAGCCCGCGGCGTCTGCGATCTTCGGACCGCGGC...\n",
       "1        1     R  ATGTCTCCGATCGAGCCCGCGGCGTCTGCGATCTTCGGACCGCGGC...\n",
       "2        2     S  ATGTCTCCGATCGAGCCCGCGGCGTCTGCGATCTTCGGACCGCGGC...\n",
       "3        3     S  ATGTCTCCGATCGAGCCCGCGGCGTCTGCGATCTTCGGACCGCGGC...\n",
       "4        4     S  ATGTCTCCGATCGAGCCCGCGGCGTCTGCGATCTTCGGACCGCGGC...\n",
       "...    ...   ...                                                ...\n",
       "2986  2986     S  ATGTCTCCGATCGAGCCCGCGGCGTCTGCGATCTTCGGACCGCGGC...\n",
       "2987  2987     S  ATGTCTCCGATCGAGCCCGCGGCGTCTGCGATCTTCGGACCGCGGC...\n",
       "2988  2988     S  ATGTCTCCGATCGAGCCCGCGGCGTCTGCGATCTTCGGACCGCGGC...\n",
       "2989  2989     S  ATGTCTCCGATCGAGCCCGCGGCGTCTGCGATCTTCGGACCGCGGC...\n",
       "2990  2990     R  ATGTCTCCGATCGAGCCCGCGGCGTCTGCGATCTTCGGACCGCGGC...\n",
       "\n",
       "[2991 rows x 3 columns]"
      ]
     },
     "execution_count": 2,
     "metadata": {},
     "output_type": "execute_result"
    }
   ],
   "source": [
    "train_file = \"../dataset/datachallenge-traindata.csv\"\n",
    "df_train = pd.read_csv(train_file, sep = ';')\n",
    "df_train"
   ]
  },
  {
   "cell_type": "markdown",
   "id": "11ec4409",
   "metadata": {},
   "source": [
    "### Extract sequences"
   ]
  },
  {
   "cell_type": "code",
   "execution_count": 3,
   "id": "7f6420e2",
   "metadata": {},
   "outputs": [],
   "source": [
    "# extract sequences\n",
    "seqs = df_train[\"seq\"].values"
   ]
  },
  {
   "cell_type": "code",
   "execution_count": 4,
   "id": "479042b7",
   "metadata": {},
   "outputs": [
    {
     "name": "stdout",
     "output_type": "stream",
     "text": [
      "minimum / maximum sequence length = 2043 / 2701\n"
     ]
    }
   ],
   "source": [
    "# print minimum and maximum sequence length\n",
    "seq_len = [len(x) for x in seqs]\n",
    "print(\"minimum / maximum sequence length = {} / {}\".format(np.min(seq_len),np.max(seq_len)))"
   ]
  },
  {
   "cell_type": "code",
   "execution_count": 5,
   "id": "0aa0f609",
   "metadata": {},
   "outputs": [
    {
     "data": {
      "text/plain": [
       "<AxesSubplot:ylabel='Count'>"
      ]
     },
     "execution_count": 5,
     "metadata": {},
     "output_type": "execute_result"
    },
    {
     "data": {
      "image/png": "[encoded data removed]",
      "text/plain": [
       "<Figure size 432x288 with 1 Axes>"
      ]
     },
     "metadata": {
      "needs_background": "light"
     },
     "output_type": "display_data"
    }
   ],
   "source": [
    "# show histogram\n",
    "sns.histplot(x=seq_len)"
   ]
  },
  {
   "cell_type": "markdown",
   "id": "f86acba9-a975-4901-8298-4361be7c8878",
   "metadata": {},
   "source": [
    "## 2. Build kmer profiles"
   ]
  },
  {
   "cell_type": "markdown",
   "id": "42600a2c",
   "metadata": {},
   "source": [
    "We first build a dictionary associating an index to each kmer. Note that we will only consider kmers made of A, T, G and C's only."
   ]
  },
  {
   "cell_type": "code",
   "execution_count": 6,
   "id": "963c3b61",
   "metadata": {},
   "outputs": [
    {
     "name": "stdout",
     "output_type": "stream",
     "text": [
      "found 4828 distinct k-mers out of 16384 possible\n"
     ]
    }
   ],
   "source": [
    "k = 7\n",
    "kmer_dic = utils.build_kmer_dic(seqs, k)"
   ]
  },
  {
   "cell_type": "markdown",
   "id": "2b0f10a8",
   "metadata": {},
   "source": [
    "We then extract a matrix containing kmer profiles. Each column of the matrix will correspond to a kmer of the dictionary, and will count the number of occurences of this kmer in the sequences.\n",
    "\n",
    "Note that here we don't need to to padd or truncate sequences."
   ]
  },
  {
   "cell_type": "code",
   "execution_count": 7,
   "id": "ce3fa10e",
   "metadata": {},
   "outputs": [
    {
     "name": "stdout",
     "output_type": "stream",
     "text": [
      "\t- kmerizing sequence 1 out of 2991\n",
      "\t- kmerizing sequence 101 out of 2991\n",
      "\t- kmerizing sequence 201 out of 2991\n",
      "\t- kmerizing sequence 301 out of 2991\n",
      "\t- kmerizing sequence 401 out of 2991\n",
      "\t- kmerizing sequence 501 out of 2991\n",
      "\t- kmerizing sequence 601 out of 2991\n",
      "\t- kmerizing sequence 701 out of 2991\n",
      "\t- kmerizing sequence 801 out of 2991\n",
      "\t- kmerizing sequence 901 out of 2991\n",
      "\t- kmerizing sequence 1001 out of 2991\n",
      "\t- kmerizing sequence 1101 out of 2991\n",
      "\t- kmerizing sequence 1201 out of 2991\n",
      "\t- kmerizing sequence 1301 out of 2991\n",
      "\t- kmerizing sequence 1401 out of 2991\n",
      "\t- kmerizing sequence 1501 out of 2991\n",
      "\t- kmerizing sequence 1601 out of 2991\n",
      "\t- kmerizing sequence 1701 out of 2991\n",
      "\t- kmerizing sequence 1801 out of 2991\n",
      "\t- kmerizing sequence 1901 out of 2991\n",
      "\t- kmerizing sequence 2001 out of 2991\n",
      "\t- kmerizing sequence 2101 out of 2991\n",
      "\t- kmerizing sequence 2201 out of 2991\n",
      "\t- kmerizing sequence 2301 out of 2991\n",
      "\t- kmerizing sequence 2401 out of 2991\n",
      "\t- kmerizing sequence 2501 out of 2991\n",
      "\t- kmerizing sequence 2601 out of 2991\n",
      "\t- kmerizing sequence 2701 out of 2991\n",
      "\t- kmerizing sequence 2801 out of 2991\n",
      "\t- kmerizing sequence 2901 out of 2991\n",
      "kmerization from 2991 sequences and k = 7 took 10.588561773300171 seconds\n",
      "(2991, 4828)\n"
     ]
    }
   ],
   "source": [
    "X_train = utils.build_kmer_profile_matrix(seqs, k, kmer_dic)\n",
    "print(X_train.shape)"
   ]
  },
  {
   "cell_type": "code",
   "execution_count": 8,
   "id": "2de1ace8",
   "metadata": {},
   "outputs": [
    {
     "name": "stdout",
     "output_type": "stream",
     "text": [
      "number of columns of X = 4828 and number of kmers of the dictionary = 4828\n",
      "min/max value in X = 0/5 \n"
     ]
    }
   ],
   "source": [
    "print(\"number of columns of X = {} and number of kmers of the dictionary = {}\".format(X_train.shape[1], len(kmer_dic)))\n",
    "print(\"min/max value in X = {}/{} \".format(np.min(X_train), np.max(X_train)))"
   ]
  },
  {
   "cell_type": "markdown",
   "id": "a839d319",
   "metadata": {},
   "source": [
    "We can plot a PCA to make sure that the matrix is well formed."
   ]
  },
  {
   "cell_type": "code",
   "execution_count": 9,
   "id": "a4940c2d",
   "metadata": {},
   "outputs": [
    {
     "data": {
      "text/plain": [
       "<matplotlib.collections.PathCollection at 0x1dba4440dc8>"
      ]
     },
     "execution_count": 9,
     "metadata": {},
     "output_type": "execute_result"
    },
    {
     "data": {
      "image/png": "[encoded data removed]",
      "text/plain": [
       "<Figure size 432x288 with 1 Axes>"
      ]
     },
     "metadata": {
      "needs_background": "light"
     },
     "output_type": "display_data"
    }
   ],
   "source": [
    "pca = PCA(n_components = 2)\n",
    "Xpca_train = pca.fit_transform(X_train)\n",
    "plt.scatter(Xpca_train[:,0], Xpca_train[:,1], alpha = 0.4)"
   ]
  },
  {
   "cell_type": "markdown",
   "id": "f40e3e66-0469-445c-8a49-fafc429ea565",
   "metadata": {},
   "source": [
    "## 3. Fit Random forest model"
   ]
  },
  {
   "cell_type": "code",
   "execution_count": 10,
   "id": "07c8ebca-196c-4ecd-a61a-4f2a55e0802a",
   "metadata": {},
   "outputs": [],
   "source": [
    "# encode train labels \n",
    "labEncod = LabelEncoder()\n",
    "y_train = labEncod.fit_transform(df_train.label)"
   ]
  },
  {
   "cell_type": "code",
   "execution_count": 11,
   "id": "2e2540b2-c489-42e4-a856-faa6996bff24",
   "metadata": {},
   "outputs": [
    {
     "name": "stdout",
     "output_type": "stream",
     "text": [
      "Fitting 5 folds for each of 3 candidates, totalling 15 fits\n",
      "[CV] END ...................................n_estimators=100; total time=  10.0s\n",
      "[CV] END ...................................n_estimators=100; total time=   9.2s\n",
      "[CV] END ...................................n_estimators=100; total time=   8.3s\n",
      "[CV] END ...................................n_estimators=100; total time=   8.2s\n",
      "[CV] END ...................................n_estimators=100; total time=   9.1s\n",
      "[CV] END ...................................n_estimators=200; total time=  17.4s\n",
      "[CV] END ...................................n_estimators=200; total time=  18.0s\n",
      "[CV] END ...................................n_estimators=200; total time=  18.3s\n",
      "[CV] END ...................................n_estimators=200; total time=  18.1s\n",
      "[CV] END ...................................n_estimators=200; total time=  17.7s\n",
      "[CV] END ...................................n_estimators=300; total time=  24.1s\n",
      "[CV] END ...................................n_estimators=300; total time=  24.4s\n",
      "[CV] END ...................................n_estimators=300; total time=  23.5s\n",
      "[CV] END ...................................n_estimators=300; total time=  24.6s\n",
      "[CV] END ...................................n_estimators=300; total time=  30.5s\n"
     ]
    },
    {
     "data": {
      "text/plain": [
       "GridSearchCV(cv=5, estimator=RandomForestClassifier(),\n",
       "             param_grid={'n_estimators': [100, 200, 300]}, verbose=2)"
      ]
     },
     "execution_count": 11,
     "metadata": {},
     "output_type": "execute_result"
    }
   ],
   "source": [
    "# instanciate RF model \n",
    "rf = RandomForestClassifier()\n",
    "\n",
    "# define model parameters \n",
    "parameters = {'n_estimators':[100, 200, 300]}\n",
    "\n",
    "# define grid search paramaters\n",
    "clf = GridSearchCV(rf, parameters, cv=5, verbose=2)\n",
    "\n",
    "# fit the model\n",
    "clf.fit(X_train, y_train)"
   ]
  },
  {
   "cell_type": "code",
   "execution_count": 12,
   "id": "dacb0e22-e343-41d4-af76-8440ff1443b6",
   "metadata": {},
   "outputs": [
    {
     "data": {
      "text/plain": [
       "{'mean_fit_time': array([ 9.00420032, 17.90243287, 25.33473501]),\n",
       " 'std_fit_time': array([0.66296246, 0.3018493 , 2.55192803]),\n",
       " 'mean_score_time': array([0.06385708, 0.11080942, 0.15771704]),\n",
       " 'std_score_time': array([0.01834473, 0.02215969, 0.027171  ]),\n",
       " 'param_n_estimators': masked_array(data=[100, 200, 300],\n",
       "              mask=[False, False, False],\n",
       "        fill_value='?',\n",
       "             dtype=object),\n",
       " 'params': [{'n_estimators': 100},\n",
       "  {'n_estimators': 200},\n",
       "  {'n_estimators': 300}],\n",
       " 'split0_test_score': array([0.86644407, 0.86644407, 0.87646077]),\n",
       " 'split1_test_score': array([0.92140468, 0.91973244, 0.92140468]),\n",
       " 'split2_test_score': array([0.94816054, 0.94648829, 0.94648829]),\n",
       " 'split3_test_score': array([0.90802676, 0.909699  , 0.90802676]),\n",
       " 'split4_test_score': array([0.89966555, 0.89799331, 0.89632107]),\n",
       " 'mean_test_score': array([0.90874032, 0.90807142, 0.90974031]),\n",
       " 'std_test_score': array([0.02678123, 0.02626362, 0.02356698]),\n",
       " 'rank_test_score': array([2, 3, 1])}"
      ]
     },
     "execution_count": 12,
     "metadata": {},
     "output_type": "execute_result"
    }
   ],
   "source": [
    "clf.cv_results_"
   ]
  },
  {
   "cell_type": "code",
   "execution_count": 13,
   "id": "bfab3566-7e82-469c-966d-ea61841913b4",
   "metadata": {},
   "outputs": [
    {
     "data": {
      "text/plain": [
       "{'n_estimators': 300}"
      ]
     },
     "execution_count": 13,
     "metadata": {},
     "output_type": "execute_result"
    }
   ],
   "source": [
    "clf.best_params_"
   ]
  },
  {
   "cell_type": "markdown",
   "id": "1eaeff1d-ead9-436f-8e04-bc79a9895778",
   "metadata": {},
   "source": [
    "## 4. Compute performance on train dataset"
   ]
  },
  {
   "cell_type": "code",
   "execution_count": 15,
   "id": "498fc78a-5317-41d8-9fcc-0cd549093f98",
   "metadata": {},
   "outputs": [
    {
     "name": "stdout",
     "output_type": "stream",
     "text": [
      "\n",
      "**** classification report ****\n",
      "              precision    recall  f1-score   support\n",
      "\n",
      "           R       0.95      0.93      0.94       918\n",
      "           S       0.97      0.98      0.97      2073\n",
      "\n",
      "    accuracy                           0.96      2991\n",
      "   macro avg       0.96      0.95      0.96      2991\n",
      "weighted avg       0.96      0.96      0.96      2991\n",
      "\n"
     ]
    }
   ],
   "source": [
    "# compute train performance \n",
    "pred_train = clf.predict(X_train)\n",
    "report = classification_report(y_train, pred_train, target_names=labEncod.classes_)\n",
    "print(\"\\n**** classification report ****\")\n",
    "print(report)"
   ]
  },
  {
   "cell_type": "code",
   "execution_count": 16,
   "id": "ff6f97a3-c8d6-4b16-bee1-a5b078a26455",
   "metadata": {},
   "outputs": [
    {
     "name": "stdout",
     "output_type": "stream",
     "text": [
      "\n",
      "**** confusion matrix ****\n",
      "[[ 854   64]\n",
      " [  48 2025]]\n",
      "Sensitivity:  0.9302832244008714\n",
      "Specificity:  0.9768451519536903\n",
      "Macro accuracy:  0.9535641881772808\n"
     ]
    }
   ],
   "source": [
    "# compute confusion matrix \n",
    "cm = confusion_matrix(y_train, pred_train)\n",
    "print(\"\\n**** confusion matrix ****\")\n",
    "print(cm)\n",
    "# compute sensi/speci and macro accuracy \n",
    "sensi = cm[0,0]/(cm[0,0]+cm[0,1])\n",
    "print('Sensitivity: ', sensi )\n",
    "\n",
    "speci = cm[1,1]/(cm[1,0]+cm[1,1])\n",
    "print('Specificity: ', speci)\n",
    "\n",
    "macro_acc = 0.5*(sensi+speci)\n",
    "print('Macro accuracy: ', macro_acc)"
   ]
  },
  {
   "cell_type": "code",
   "execution_count": null,
   "id": "49ee395d",
   "metadata": {},
   "outputs": [],
   "source": []
  }
 ],
 "metadata": {
  "kernelspec": {
   "display_name": "Python 3 (ipykernel)",
   "language": "python",
   "name": "python3"
  },
  "language_info": {
   "codemirror_mode": {
    "name": "ipython",
    "version": 3
   },
   "file_extension": ".py",
   "mimetype": "text/x-python",
   "name": "python",
   "nbconvert_exporter": "python",
   "pygments_lexer": "ipython3",
   "version": "3.7.11"
  }
 },
 "nbformat": 4,
 "nbformat_minor": 5
}
