{
 "cells": [
  {
   "cell_type": "markdown",
   "id": "3061383e",
   "metadata": {},
   "source": [
    "# Random-forest baseline\n",
    "\n",
    "In this notebook, we carry out a simple baseline based on RandomForest and kmer profiles. \n"
   ]
  },
  {
   "cell_type": "markdown",
   "id": "cd884776",
   "metadata": {},
   "source": [
    "## We first import packages"
   ]
  },
  {
   "cell_type": "code",
   "execution_count": null,
   "id": "e0f35b61-9701-4c8f-af3f-c88282ad1267",
   "metadata": {
    "scrolled": true
   },
   "outputs": [],
   "source": [
    "# generic imports \n",
    "import pandas as pd\n",
    "import os\n",
    "import numpy as np\n",
    "import re\n",
    "\n",
    "# sklearn \n",
    "from sklearn.preprocessing import LabelEncoder\n",
    "from sklearn.model_selection import GridSearchCV\n",
    "from sklearn.ensemble import RandomForestClassifier\n",
    "from sklearn.metrics import classification_report, confusion_matrix\n",
    "from sklearn.decomposition import PCA\n",
    "\n",
    "# seaborn\n",
    "import matplotlib\n",
    "import matplotlib.pyplot as plt\n",
    "import seaborn as sns\n",
    "\n",
    "# set random seed\n",
    "np.random.seed(123)\n",
    "\n",
    "import utils"
   ]
  },
  {
   "cell_type": "markdown",
   "id": "6119c057-10d8-49a3-ba15-7015b8dbb4e1",
   "metadata": {},
   "source": [
    "## 1. Load train dataset"
   ]
  },
  {
   "cell_type": "code",
   "execution_count": null,
   "id": "59d0b8b9-0225-40a0-aee8-849d407bd5ec",
   "metadata": {},
   "outputs": [],
   "source": [
    "train_file = \"../dataset/datachallenge-traindata.csv\"\n",
    "df_train = pd.read_csv(train_file, sep = ';')\n",
    "df_train"
   ]
  },
  {
   "cell_type": "markdown",
   "id": "11ec4409",
   "metadata": {},
   "source": [
    "### Extract sequences"
   ]
  },
  {
   "cell_type": "code",
   "execution_count": null,
   "id": "7f6420e2",
   "metadata": {},
   "outputs": [],
   "source": [
    "# extract sequences\n",
    "seqs = df_train[\"seq\"].values"
   ]
  },
  {
   "cell_type": "code",
   "execution_count": null,
   "id": "479042b7",
   "metadata": {},
   "outputs": [],
   "source": [
    "# print minimum and maximum sequence length\n",
    "seq_len = [len(x) for x in seqs]\n",
    "print(\"minimum / maximum sequence length = {} / {}\".format(np.min(seq_len),np.max(seq_len)))"
   ]
  },
  {
   "cell_type": "code",
   "execution_count": null,
   "id": "0aa0f609",
   "metadata": {},
   "outputs": [],
   "source": [
    "# show histogram\n",
    "sns.histplot(x=seq_len)"
   ]
  },
  {
   "cell_type": "markdown",
   "id": "f86acba9-a975-4901-8298-4361be7c8878",
   "metadata": {},
   "source": [
    "## 2. Build kmer profiles"
   ]
  },
  {
   "cell_type": "markdown",
   "id": "42600a2c",
   "metadata": {},
   "source": [
    "We first build a dictionary associating an index to each kmer. Note that we will only consider kmers made of A, T, G and C's only."
   ]
  },
  {
   "cell_type": "code",
   "execution_count": null,
   "id": "963c3b61",
   "metadata": {},
   "outputs": [],
   "source": [
    "k = 7\n",
    "kmer_dic = utils.build_kmer_dic(seqs, k)"
   ]
  },
  {
   "cell_type": "markdown",
   "id": "2b0f10a8",
   "metadata": {},
   "source": [
    "We then extract a matrix containing kmer profiles. Each column of the matrix will correspond to a kmer of the dictionary, and will count the number of occurences of this kmer in the sequences.\n",
    "\n",
    "Note that here we don't need to to padd or truncate sequences."
   ]
  },
  {
   "cell_type": "code",
   "execution_count": null,
   "id": "ce3fa10e",
   "metadata": {},
   "outputs": [],
   "source": [
    "X_train = utils.build_kmer_profile_matrix(seqs, k, kmer_dic)\n",
    "print(X_train.shape)"
   ]
  },
  {
   "cell_type": "code",
   "execution_count": null,
   "id": "2de1ace8",
   "metadata": {},
   "outputs": [],
   "source": [
    "print(\"number of columns of X = {} and number of kmers of the dictionary = {}\".format(X_train.shape[1], len(kmer_dic)))\n",
    "print(\"min/max value in X = {}/{} \".format(np.min(X_train), np.max(X_train)))"
   ]
  },
  {
   "cell_type": "markdown",
   "id": "a839d319",
   "metadata": {},
   "source": [
    "We can plot a PCA to make sure that the matrix is well formed."
   ]
  },
  {
   "cell_type": "code",
   "execution_count": null,
   "id": "a4940c2d",
   "metadata": {},
   "outputs": [],
   "source": [
    "pca = PCA(n_components = 2)\n",
    "Xpca_train = pca.fit_transform(X_train)\n",
    "plt.scatter(Xpca_train[:,0], Xpca_train[:,1], alpha = 0.4)"
   ]
  },
  {
   "cell_type": "markdown",
   "id": "f40e3e66-0469-445c-8a49-fafc429ea565",
   "metadata": {},
   "source": [
    "## 3. Fit Random forest model"
   ]
  },
  {
   "cell_type": "code",
   "execution_count": null,
   "id": "07c8ebca-196c-4ecd-a61a-4f2a55e0802a",
   "metadata": {},
   "outputs": [],
   "source": [
    "# encode train labels \n",
    "labEncod = LabelEncoder()\n",
    "y_train = labEncod.fit_transform(df_train.label)"
   ]
  },
  {
   "cell_type": "code",
   "execution_count": null,
   "id": "2e2540b2-c489-42e4-a856-faa6996bff24",
   "metadata": {},
   "outputs": [],
   "source": [
    "# instanciate RF model \n",
    "rf = RandomForestClassifier()\n",
    "\n",
    "# define model parameters \n",
    "parameters = {'n_estimators':[100, 200, 300]}\n",
    "\n",
    "# define grid search paramaters\n",
    "clf = GridSearchCV(rf, parameters, cv=5, verbose=2)\n",
    "\n",
    "# fit the model\n",
    "clf.fit(X_train, y_train)"
   ]
  },
  {
   "cell_type": "code",
   "execution_count": null,
   "id": "dacb0e22-e343-41d4-af76-8440ff1443b6",
   "metadata": {},
   "outputs": [],
   "source": [
    "clf.cv_results_"
   ]
  },
  {
   "cell_type": "code",
   "execution_count": null,
   "id": "bfab3566-7e82-469c-966d-ea61841913b4",
   "metadata": {},
   "outputs": [],
   "source": [
    "clf.best_params_"
   ]
  },
  {
   "cell_type": "markdown",
   "id": "1eaeff1d-ead9-436f-8e04-bc79a9895778",
   "metadata": {},
   "source": [
    "## 4. Compute performance on train dataset"
   ]
  },
  {
   "cell_type": "code",
   "execution_count": null,
   "id": "498fc78a-5317-41d8-9fcc-0cd549093f98",
   "metadata": {},
   "outputs": [],
   "source": [
    "# compute train performance \n",
    "pred_train = clf.predict(X_train)\n",
    "report = classification_report(y_train, pred_train, target_names=labEncod.classes_)\n",
    "print(\"\\n**** classification report ****\")\n",
    "print(report)"
   ]
  },
  {
   "cell_type": "code",
   "execution_count": null,
   "id": "ff6f97a3-c8d6-4b16-bee1-a5b078a26455",
   "metadata": {},
   "outputs": [],
   "source": [
    "# compute confusion matrix \n",
    "cm = confusion_matrix(y_train, pred_train)\n",
    "print(\"\\n**** confusion matrix ****\")\n",
    "print(cm)\n",
    "# compute sensi/speci and macro accuracy \n",
    "sensi = cm[0,0]/(cm[0,0]+cm[0,1])\n",
    "print('Sensitivity: ', sensi )\n",
    "\n",
    "speci = cm[1,1]/(cm[1,0]+cm[1,1])\n",
    "print('Specificity: ', speci)\n",
    "\n",
    "macro_acc = 0.5*(sensi+speci)\n",
    "print('Macro accuracy: ', macro_acc)"
   ]
  },
  {
   "cell_type": "code",
   "execution_count": null,
   "id": "49ee395d",
   "metadata": {},
   "outputs": [],
   "source": []
  }
 ],
 "metadata": {
  "kernelspec": {
   "display_name": "Python 3 (ipykernel)",
   "language": "python",
   "name": "python3"
  },
  "language_info": {
   "codemirror_mode": {
    "name": "ipython",
    "version": 3
   },
   "file_extension": ".py",
   "mimetype": "text/x-python",
   "name": "python",
   "nbconvert_exporter": "python",
   "pygments_lexer": "ipython3",
   "version": "3.7.11"
  }
 },
 "nbformat": 4,
 "nbformat_minor": 5
}
