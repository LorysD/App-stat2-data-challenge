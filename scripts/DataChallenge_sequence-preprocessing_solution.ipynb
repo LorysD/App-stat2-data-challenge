{
 "cells": [
  {
   "cell_type": "markdown",
   "id": "8d6dfdd8",
   "metadata": {},
   "source": [
    "# Pre-processing sequences\n",
    "\n",
    "In this notebook we illustrate how to use utility functions implemented in the **utils.py** file to pre-process the sequences.\n",
    "\n",
    "These functions allow to transform a list of sequences (that are available in the **datachallenge-traindata.csv** file into matrices that can be used by machine-/deep-learning algorithms.\n",
    "More precisely, three types of matrices can be built:\n",
    "* one-hot encoding matrices, as already seen in the TP8 (exercice about CNNs and one-hot encoding) \n",
    "* matrices of kmers tokens, as already seen in TP8 (exercice and CNNs and embeddings)\n",
    "* matrices of kmers profiles, which is equivalent to the well known \"bag of words\" representation in text analysis.\n",
    "\n",
    "You can refer to the last course and to the TP8 for more details.\n"
   ]
  },
  {
   "cell_type": "markdown",
   "id": "2c8bbbaf",
   "metadata": {},
   "source": [
    "## We first import packages"
   ]
  },
  {
   "cell_type": "code",
   "execution_count": 1,
   "id": "a1721871",
   "metadata": {},
   "outputs": [],
   "source": [
    "%load_ext autoreload\n",
    "%autoreload 2"
   ]
  },
  {
   "cell_type": "code",
   "execution_count": 2,
   "id": "e0f35b61-9701-4c8f-af3f-c88282ad1267",
   "metadata": {
    "scrolled": true
   },
   "outputs": [],
   "source": [
    "# generic imports \n",
    "import pandas as pd\n",
    "import numpy as np\n",
    "# seaborn\n",
    "import matplotlib\n",
    "import matplotlib.pyplot as plt\n",
    "import seaborn as sns\n",
    "# utility functions\n",
    "import utils"
   ]
  },
  {
   "cell_type": "markdown",
   "id": "6119c057-10d8-49a3-ba15-7015b8dbb4e1",
   "metadata": {},
   "source": [
    "## 1. Load train dataset"
   ]
  },
  {
   "cell_type": "code",
   "execution_count": 3,
   "id": "59d0b8b9-0225-40a0-aee8-849d407bd5ec",
   "metadata": {},
   "outputs": [
    {
     "data": {
      "text/html": [
       "<div>\n",
       "<style scoped>\n",
       "    .dataframe tbody tr th:only-of-type {\n",
       "        vertical-align: middle;\n",
       "    }\n",
       "\n",
       "    .dataframe tbody tr th {\n",
       "        vertical-align: top;\n",
       "    }\n",
       "\n",
       "    .dataframe thead th {\n",
       "        text-align: right;\n",
       "    }\n",
       "</style>\n",
       "<table border=\"1\" class=\"dataframe\">\n",
       "  <thead>\n",
       "    <tr style=\"text-align: right;\">\n",
       "      <th></th>\n",
       "      <th>idx</th>\n",
       "      <th>label</th>\n",
       "      <th>seq</th>\n",
       "    </tr>\n",
       "  </thead>\n",
       "  <tbody>\n",
       "    <tr>\n",
       "      <th>0</th>\n",
       "      <td>0</td>\n",
       "      <td>S</td>\n",
       "      <td>ATGTCTCCGATCGAGCCCGCGGCGTCTGCGATCTTCGGACCGCGGC...</td>\n",
       "    </tr>\n",
       "    <tr>\n",
       "      <th>1</th>\n",
       "      <td>1</td>\n",
       "      <td>R</td>\n",
       "      <td>ATGTCTCCGATCGAGCCCGCGGCGTCTGCGATCTTCGGACCGCGGC...</td>\n",
       "    </tr>\n",
       "    <tr>\n",
       "      <th>2</th>\n",
       "      <td>2</td>\n",
       "      <td>S</td>\n",
       "      <td>ATGTCTCCGATCGAGCCCGCGGCGTCTGCGATCTTCGGACCGCGGC...</td>\n",
       "    </tr>\n",
       "    <tr>\n",
       "      <th>3</th>\n",
       "      <td>3</td>\n",
       "      <td>S</td>\n",
       "      <td>ATGTCTCCGATCGAGCCCGCGGCGTCTGCGATCTTCGGACCGCGGC...</td>\n",
       "    </tr>\n",
       "    <tr>\n",
       "      <th>4</th>\n",
       "      <td>4</td>\n",
       "      <td>S</td>\n",
       "      <td>ATGTCTCCGATCGAGCCCGCGGCGTCTGCGATCTTCGGACCGCGGC...</td>\n",
       "    </tr>\n",
       "    <tr>\n",
       "      <th>...</th>\n",
       "      <td>...</td>\n",
       "      <td>...</td>\n",
       "      <td>...</td>\n",
       "    </tr>\n",
       "    <tr>\n",
       "      <th>2986</th>\n",
       "      <td>2986</td>\n",
       "      <td>S</td>\n",
       "      <td>ATGTCTCCGATCGAGCCCGCGGCGTCTGCGATCTTCGGACCGCGGC...</td>\n",
       "    </tr>\n",
       "    <tr>\n",
       "      <th>2987</th>\n",
       "      <td>2987</td>\n",
       "      <td>S</td>\n",
       "      <td>ATGTCTCCGATCGAGCCCGCGGCGTCTGCGATCTTCGGACCGCGGC...</td>\n",
       "    </tr>\n",
       "    <tr>\n",
       "      <th>2988</th>\n",
       "      <td>2988</td>\n",
       "      <td>S</td>\n",
       "      <td>ATGTCTCCGATCGAGCCCGCGGCGTCTGCGATCTTCGGACCGCGGC...</td>\n",
       "    </tr>\n",
       "    <tr>\n",
       "      <th>2989</th>\n",
       "      <td>2989</td>\n",
       "      <td>S</td>\n",
       "      <td>ATGTCTCCGATCGAGCCCGCGGCGTCTGCGATCTTCGGACCGCGGC...</td>\n",
       "    </tr>\n",
       "    <tr>\n",
       "      <th>2990</th>\n",
       "      <td>2990</td>\n",
       "      <td>R</td>\n",
       "      <td>ATGTCTCCGATCGAGCCCGCGGCGTCTGCGATCTTCGGACCGCGGC...</td>\n",
       "    </tr>\n",
       "  </tbody>\n",
       "</table>\n",
       "<p>2991 rows × 3 columns</p>\n",
       "</div>"
      ],
      "text/plain": [
       "       idx label                                                seq\n",
       "0        0     S  ATGTCTCCGATCGAGCCCGCGGCGTCTGCGATCTTCGGACCGCGGC...\n",
       "1        1     R  ATGTCTCCGATCGAGCCCGCGGCGTCTGCGATCTTCGGACCGCGGC...\n",
       "2        2     S  ATGTCTCCGATCGAGCCCGCGGCGTCTGCGATCTTCGGACCGCGGC...\n",
       "3        3     S  ATGTCTCCGATCGAGCCCGCGGCGTCTGCGATCTTCGGACCGCGGC...\n",
       "4        4     S  ATGTCTCCGATCGAGCCCGCGGCGTCTGCGATCTTCGGACCGCGGC...\n",
       "...    ...   ...                                                ...\n",
       "2986  2986     S  ATGTCTCCGATCGAGCCCGCGGCGTCTGCGATCTTCGGACCGCGGC...\n",
       "2987  2987     S  ATGTCTCCGATCGAGCCCGCGGCGTCTGCGATCTTCGGACCGCGGC...\n",
       "2988  2988     S  ATGTCTCCGATCGAGCCCGCGGCGTCTGCGATCTTCGGACCGCGGC...\n",
       "2989  2989     S  ATGTCTCCGATCGAGCCCGCGGCGTCTGCGATCTTCGGACCGCGGC...\n",
       "2990  2990     R  ATGTCTCCGATCGAGCCCGCGGCGTCTGCGATCTTCGGACCGCGGC...\n",
       "\n",
       "[2991 rows x 3 columns]"
      ]
     },
     "execution_count": 3,
     "metadata": {},
     "output_type": "execute_result"
    }
   ],
   "source": [
    "train_file = \"../dataset/datachallenge-traindata.csv\"\n",
    "df_train = pd.read_csv(train_file, sep = ';')\n",
    "df_train"
   ]
  },
  {
   "cell_type": "markdown",
   "id": "11ec4409",
   "metadata": {},
   "source": [
    "### Extract sequences"
   ]
  },
  {
   "cell_type": "code",
   "execution_count": 4,
   "id": "7f6420e2",
   "metadata": {},
   "outputs": [],
   "source": [
    "# extract sequences\n",
    "seqs = df_train[\"seq\"].values"
   ]
  },
  {
   "cell_type": "code",
   "execution_count": 5,
   "id": "479042b7",
   "metadata": {},
   "outputs": [
    {
     "name": "stdout",
     "output_type": "stream",
     "text": [
      "minimum / maximum sequence length = 2043 / 2701\n"
     ]
    }
   ],
   "source": [
    "# print minimum and maximum sequence length\n",
    "seq_len = [len(x) for x in seqs]\n",
    "print(\"minimum / maximum sequence length = {} / {}\".format(np.min(seq_len),np.max(seq_len)))"
   ]
  },
  {
   "cell_type": "code",
   "execution_count": 6,
   "id": "0aa0f609",
   "metadata": {},
   "outputs": [
    {
     "data": {
      "text/plain": [
       "<AxesSubplot:ylabel='Count'>"
      ]
     },
     "execution_count": 6,
     "metadata": {},
     "output_type": "execute_result"
    },
    {
     "data": {
      "image/png": "[encoded data removed]",
      "text/plain": [
       "<Figure size 432x288 with 1 Axes>"
      ]
     },
     "metadata": {
      "needs_background": "light"
     },
     "output_type": "display_data"
    }
   ],
   "source": [
    "# show histogram\n",
    "sns.histplot(x=seq_len)"
   ]
  },
  {
   "cell_type": "code",
   "execution_count": 16,
   "id": "637512be",
   "metadata": {},
   "outputs": [
    {
     "data": {
      "text/plain": [
       "<AxesSubplot:>"
      ]
     },
     "execution_count": 16,
     "metadata": {},
     "output_type": "execute_result"
    },
    {
     "data": {
      "image/png": "[encoded data removed]",
      "text/plain": [
       "<Figure size 432x288 with 1 Axes>"
      ]
     },
     "metadata": {
      "needs_background": "light"
     },
     "output_type": "display_data"
    }
   ],
   "source": [
    "sns.boxplot(x = seq_len)"
   ]
  },
  {
   "cell_type": "markdown",
   "id": "f28c758b",
   "metadata": {},
   "source": [
    "## 2. Representing sequences using \"one-hot-encoding\" of ATGC bases"
   ]
  },
  {
   "cell_type": "markdown",
   "id": "dc7118dd",
   "metadata": {},
   "source": [
    "Note that we can choose to **padd** short sequences to reach the maximum sequence length, or **truncate** long sequences to reach the minimum sequence length."
   ]
  },
  {
   "cell_type": "code",
   "execution_count": 7,
   "id": "598ff99d",
   "metadata": {},
   "outputs": [
    {
     "name": "stdout",
     "output_type": "stream",
     "text": [
      "(2991, 2701, 4)\n"
     ]
    }
   ],
   "source": [
    "X = utils.build_onehot_matrix(seqs, padd = True, truncate = False)\n",
    "print(X.shape)"
   ]
  },
  {
   "cell_type": "code",
   "execution_count": 8,
   "id": "fd46602d",
   "metadata": {},
   "outputs": [
    {
     "name": "stdout",
     "output_type": "stream",
     "text": [
      "(2991, 2043, 4)\n"
     ]
    }
   ],
   "source": [
    "X = utils.build_onehot_matrix(seqs, padd = False, truncate = True)\n",
    "print(X.shape)"
   ]
  },
  {
   "cell_type": "markdown",
   "id": "0d778766",
   "metadata": {},
   "source": [
    "## 3. Representing sequences as vectors of  kmers tokens / indices"
   ]
  },
  {
   "cell_type": "markdown",
   "id": "21b3f567",
   "metadata": {},
   "source": [
    "We first build a dictionary associating an index to each kmer. Note that we will only consider kmers made of A, T, G and C's only."
   ]
  },
  {
   "cell_type": "code",
   "execution_count": 9,
   "id": "ea826a2e",
   "metadata": {},
   "outputs": [
    {
     "name": "stdout",
     "output_type": "stream",
     "text": [
      "found 4828 distinct k-mers out of 16384 possible\n"
     ]
    }
   ],
   "source": [
    "k = 7\n",
    "kmer_dic = utils.build_kmer_dic(seqs, k)"
   ]
  },
  {
   "cell_type": "markdown",
   "id": "7b63b424",
   "metadata": {},
   "source": [
    "We then extract a matrix containing sequences of kmer indices. Note that here also, we need to choose wheter we want to **padd** short sequences, or **truncate** long sequences."
   ]
  },
  {
   "cell_type": "code",
   "execution_count": 10,
   "id": "7797bb1d",
   "metadata": {},
   "outputs": [
    {
     "name": "stdout",
     "output_type": "stream",
     "text": [
      "(2991, 2695)\n"
     ]
    }
   ],
   "source": [
    "X = utils.build_kmer_tokens_matrix(seqs, k, kmer_dic, padd = True, truncate = False)\n",
    "print(X.shape)"
   ]
  },
  {
   "cell_type": "code",
   "execution_count": 11,
   "id": "76b99cae",
   "metadata": {},
   "outputs": [
    {
     "name": "stdout",
     "output_type": "stream",
     "text": [
      "(2991, 2037)\n"
     ]
    }
   ],
   "source": [
    "X = utils.build_kmer_tokens_matrix(seqs, k, kmer_dic, padd = False, truncate = True)\n",
    "print(X.shape)"
   ]
  },
  {
   "cell_type": "markdown",
   "id": "f176bcc3",
   "metadata": {},
   "source": [
    "We can then check that the values contained in the matrix are comprised between zero and the number of kmers found in the dictionary."
   ]
  },
  {
   "cell_type": "code",
   "execution_count": 12,
   "id": "157eb719",
   "metadata": {},
   "outputs": [
    {
     "name": "stdout",
     "output_type": "stream",
     "text": [
      "min/max value in X = 0/4828 and number of kmers of the dictionary = 4828\n"
     ]
    }
   ],
   "source": [
    "print(\"min/max value in X = {}/{} and number of kmers of the dictionary = {}\".format(np.min(X), np.max(X), len(kmer_dic)))"
   ]
  },
  {
   "cell_type": "markdown",
   "id": "f86acba9-a975-4901-8298-4361be7c8878",
   "metadata": {},
   "source": [
    "## 4. Representing sequences as kmer profiles - vectors counting kmers occurences"
   ]
  },
  {
   "cell_type": "markdown",
   "id": "42600a2c",
   "metadata": {},
   "source": [
    "Likewise, we first need to build a dictionary associating an index to each kmer. Note that we will only consider kmers made of A, T, G and C's only."
   ]
  },
  {
   "cell_type": "code",
   "execution_count": 13,
   "id": "963c3b61",
   "metadata": {},
   "outputs": [
    {
     "name": "stdout",
     "output_type": "stream",
     "text": [
      "found 4828 distinct k-mers out of 16384 possible\n"
     ]
    }
   ],
   "source": [
    "k = 7\n",
    "kmer_dic = utils.build_kmer_dic(seqs, k)"
   ]
  },
  {
   "cell_type": "markdown",
   "id": "2b0f10a8",
   "metadata": {},
   "source": [
    "We then extract a matrix containing kmer profiles. Each column of the matrix will correspond to a kmer of the dictionary, and will count the number of occurences of this kmer in the sequences.\n",
    "\n",
    "Note that here we don't need to to padd or truncate sequences."
   ]
  },
  {
   "cell_type": "code",
   "execution_count": 14,
   "id": "ce3fa10e",
   "metadata": {},
   "outputs": [
    {
     "name": "stdout",
     "output_type": "stream",
     "text": [
      "\t- kmerizing sequence 1 out of 2991\n",
      "\t- kmerizing sequence 101 out of 2991\n",
      "\t- kmerizing sequence 201 out of 2991\n",
      "\t- kmerizing sequence 301 out of 2991\n",
      "\t- kmerizing sequence 401 out of 2991\n",
      "\t- kmerizing sequence 501 out of 2991\n",
      "\t- kmerizing sequence 601 out of 2991\n",
      "\t- kmerizing sequence 701 out of 2991\n",
      "\t- kmerizing sequence 801 out of 2991\n",
      "\t- kmerizing sequence 901 out of 2991\n",
      "\t- kmerizing sequence 1001 out of 2991\n",
      "\t- kmerizing sequence 1101 out of 2991\n",
      "\t- kmerizing sequence 1201 out of 2991\n",
      "\t- kmerizing sequence 1301 out of 2991\n",
      "\t- kmerizing sequence 1401 out of 2991\n",
      "\t- kmerizing sequence 1501 out of 2991\n",
      "\t- kmerizing sequence 1601 out of 2991\n",
      "\t- kmerizing sequence 1701 out of 2991\n",
      "\t- kmerizing sequence 1801 out of 2991\n",
      "\t- kmerizing sequence 1901 out of 2991\n",
      "\t- kmerizing sequence 2001 out of 2991\n",
      "\t- kmerizing sequence 2101 out of 2991\n",
      "\t- kmerizing sequence 2201 out of 2991\n",
      "\t- kmerizing sequence 2301 out of 2991\n",
      "\t- kmerizing sequence 2401 out of 2991\n",
      "\t- kmerizing sequence 2501 out of 2991\n",
      "\t- kmerizing sequence 2601 out of 2991\n",
      "\t- kmerizing sequence 2701 out of 2991\n",
      "\t- kmerizing sequence 2801 out of 2991\n",
      "\t- kmerizing sequence 2901 out of 2991\n",
      "kmerization from 2991 sequences and k = 7 took 16.783430814743042 seconds\n",
      "(2991, 4828)\n"
     ]
    }
   ],
   "source": [
    "X = utils.build_kmer_profile_matrix(seqs, k, kmer_dic)\n",
    "print(X.shape)"
   ]
  },
  {
   "cell_type": "code",
   "execution_count": 15,
   "id": "2de1ace8",
   "metadata": {},
   "outputs": [
    {
     "name": "stdout",
     "output_type": "stream",
     "text": [
      "number of columns of X = 4828 and number of kmers of the dictionary = 4828\n",
      "min/max value in X = 0/5 \n"
     ]
    }
   ],
   "source": [
    "print(\"number of columns of X = {} and number of kmers of the dictionary = {}\".format(X.shape[1], len(kmer_dic)))\n",
    "print(\"min/max value in X = {}/{} \".format(np.min(X), np.max(X)))"
   ]
  },
  {
   "cell_type": "code",
   "execution_count": null,
   "id": "a04f32d3",
   "metadata": {},
   "outputs": [],
   "source": []
  }
 ],
 "metadata": {
  "kernelspec": {
   "display_name": "Python 3 (ipykernel)",
   "language": "python",
   "name": "python3"
  },
  "language_info": {
   "codemirror_mode": {
    "name": "ipython",
    "version": 3
   },
   "file_extension": ".py",
   "mimetype": "text/x-python",
   "name": "python",
   "nbconvert_exporter": "python",
   "pygments_lexer": "ipython3",
   "version": "3.7.11"
  }
 },
 "nbformat": 4,
 "nbformat_minor": 5
}
